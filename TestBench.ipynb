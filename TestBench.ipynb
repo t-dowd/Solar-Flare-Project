{
 "cells": [
  {
   "cell_type": "code",
   "execution_count": null,
   "metadata": {},
   "outputs": [],
   "source": [
    "from sklearn.linear_model import LinearRegression\n",
    "from sklearn.preprocessing import PolynomialFeatures\n",
    "import matplotlib.pyplot as plt\n",
    "import numpy as np\n",
    "import pandas as pd\n",
    "from sklearn import linear_model\n",
    "\n",
    "# Convert to a Dataframe\n",
    "Full_Solar_Data = pd.read_csv('SolarData.csv',sep=',')\n",
    "\n",
    "\n",
    "model = LinearRegression(fit_intercept=True)\n",
    "target = flaresPerDay\n",
    "X = npDates\n",
    "\n",
    "poly = PolynomialFeatures(degree=6)\n",
    "X_poly = poly.fit_transform(X)\n",
    "X_with_sin = np.concatenate((X_poly, np.sin(X)), axis=1)\n",
    "\n",
    "# Phi = phi(X, 3)[0]\n",
    "# print(Phi.shape)\n",
    "\n",
    "# X_train, X_test, y_train, y_test = train_test_split(\n",
    "#     X, target, test_size = 0.2)\n",
    "\n",
    "\n",
    "\n",
    "model.fit(X_poly, target)\n",
    "\n",
    "# New Cell\n",
    "\n",
    "%matplotlib inline\n",
    "\n",
    "predicted = model.predict(X_poly)\n",
    "plt.plot(X, predicted, 'r-', X_test, y_test, 'k.')\n",
    "plt.show()\n"
   ]
  }
 ],
 "metadata": {
  "language_info": {
   "name": "python"
  }
 },
 "nbformat": 4,
 "nbformat_minor": 2
}
